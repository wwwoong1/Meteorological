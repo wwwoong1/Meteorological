{
 "cells": [
  {
   "cell_type": "code",
   "execution_count": 1,
   "id": "5ba2abdd",
   "metadata": {},
   "outputs": [],
   "source": [
    "import pandas as pd\n",
    "import numpy as np"
   ]
  },
  {
   "cell_type": "code",
   "execution_count": 2,
   "id": "99ea7268",
   "metadata": {},
   "outputs": [],
   "source": [
    "df = pd.read_csv('date_date_knn.csv')"
   ]
  },
  {
   "cell_type": "code",
   "execution_count": 10,
   "id": "8a03d5aa",
   "metadata": {},
   "outputs": [
    {
     "name": "stderr",
     "output_type": "stream",
     "text": [
      "C:\\Users\\ghaud\\anaconda3\\lib\\site-packages\\numpy\\lib\\arraysetops.py:583: FutureWarning: elementwise comparison failed; returning scalar instead, but in the future will perform elementwise comparison\n",
      "  mask |= (ar1 == a)\n"
     ]
    }
   ],
   "source": [
    "ddf = pd.read_csv('uv_data_knn.csv', index_col=0)"
   ]
  },
  {
   "cell_type": "code",
   "execution_count": 4,
   "id": "289bdf0e",
   "metadata": {
    "scrolled": true
   },
   "outputs": [
    {
     "data": {
      "text/html": [
       "<div>\n",
       "<style scoped>\n",
       "    .dataframe tbody tr th:only-of-type {\n",
       "        vertical-align: middle;\n",
       "    }\n",
       "\n",
       "    .dataframe tbody tr th {\n",
       "        vertical-align: top;\n",
       "    }\n",
       "\n",
       "    .dataframe thead th {\n",
       "        text-align: right;\n",
       "    }\n",
       "</style>\n",
       "<table border=\"1\" class=\"dataframe\">\n",
       "  <thead>\n",
       "    <tr style=\"text-align: right;\">\n",
       "      <th></th>\n",
       "      <th>index</th>\n",
       "      <th>날짜</th>\n",
       "      <th>시간_분</th>\n",
       "      <th>관측소지점</th>\n",
       "      <th>경도</th>\n",
       "      <th>위도</th>\n",
       "      <th>자외선지수</th>\n",
       "      <th>파랑_가시밴드</th>\n",
       "      <th>초록_가시밴드</th>\n",
       "      <th>빨강_가시밴드</th>\n",
       "      <th>...</th>\n",
       "      <th>대기창_밴드</th>\n",
       "      <th>깨끗한_대기창_밴드</th>\n",
       "      <th>오염된_대기창_밴드</th>\n",
       "      <th>이산화탄소_밴드</th>\n",
       "      <th>태양천정각</th>\n",
       "      <th>위성천정각</th>\n",
       "      <th>대기외일사량</th>\n",
       "      <th>관측고도</th>\n",
       "      <th>지면타입</th>\n",
       "      <th>Month</th>\n",
       "    </tr>\n",
       "  </thead>\n",
       "  <tbody>\n",
       "    <tr>\n",
       "      <th>count</th>\n",
       "      <td>1.525753e+06</td>\n",
       "      <td>1.525753e+06</td>\n",
       "      <td>1.525753e+06</td>\n",
       "      <td>1.525753e+06</td>\n",
       "      <td>1.525753e+06</td>\n",
       "      <td>1.525753e+06</td>\n",
       "      <td>1.525753e+06</td>\n",
       "      <td>1.525753e+06</td>\n",
       "      <td>1.525753e+06</td>\n",
       "      <td>1.525753e+06</td>\n",
       "      <td>...</td>\n",
       "      <td>1.525753e+06</td>\n",
       "      <td>1.525753e+06</td>\n",
       "      <td>1.525753e+06</td>\n",
       "      <td>1.525753e+06</td>\n",
       "      <td>1.525753e+06</td>\n",
       "      <td>1.525753e+06</td>\n",
       "      <td>1.525753e+06</td>\n",
       "      <td>1.525753e+06</td>\n",
       "      <td>1.525753e+06</td>\n",
       "      <td>1.525753e+06</td>\n",
       "    </tr>\n",
       "    <tr>\n",
       "      <th>mean</th>\n",
       "      <td>5.097385e+04</td>\n",
       "      <td>2.020569e+07</td>\n",
       "      <td>1.175743e+03</td>\n",
       "      <td>1.273098e+02</td>\n",
       "      <td>1.278454e+02</td>\n",
       "      <td>3.609818e+01</td>\n",
       "      <td>1.096784e+00</td>\n",
       "      <td>1.003580e-01</td>\n",
       "      <td>9.668460e-02</td>\n",
       "      <td>8.983235e-02</td>\n",
       "      <td>...</td>\n",
       "      <td>2.719247e+02</td>\n",
       "      <td>2.713747e+02</td>\n",
       "      <td>2.695050e+02</td>\n",
       "      <td>2.581036e+02</td>\n",
       "      <td>8.861417e+01</td>\n",
       "      <td>4.210759e+01</td>\n",
       "      <td>1.223589e-02</td>\n",
       "      <td>6.852743e+01</td>\n",
       "      <td>2.396593e+00</td>\n",
       "      <td>6.566434e+00</td>\n",
       "    </tr>\n",
       "    <tr>\n",
       "      <th>std</th>\n",
       "      <td>2.955401e+04</td>\n",
       "      <td>5.014339e+03</td>\n",
       "      <td>6.909852e+02</td>\n",
       "      <td>3.561582e+01</td>\n",
       "      <td>1.383699e+00</td>\n",
       "      <td>1.185210e+00</td>\n",
       "      <td>1.976032e+00</td>\n",
       "      <td>1.530375e-01</td>\n",
       "      <td>1.524775e-01</td>\n",
       "      <td>1.529386e-01</td>\n",
       "      <td>...</td>\n",
       "      <td>1.763642e+01</td>\n",
       "      <td>1.796194e+01</td>\n",
       "      <td>1.734877e+01</td>\n",
       "      <td>1.271292e+01</td>\n",
       "      <td>3.805311e+01</td>\n",
       "      <td>1.342000e+00</td>\n",
       "      <td>5.433881e+00</td>\n",
       "      <td>4.675649e+01</td>\n",
       "      <td>1.257315e+00</td>\n",
       "      <td>3.421990e+00</td>\n",
       "    </tr>\n",
       "    <tr>\n",
       "      <th>min</th>\n",
       "      <td>0.000000e+00</td>\n",
       "      <td>2.020010e+07</td>\n",
       "      <td>0.000000e+00</td>\n",
       "      <td>1.300000e+01</td>\n",
       "      <td>1.261600e+02</td>\n",
       "      <td>3.330000e+01</td>\n",
       "      <td>0.000000e+00</td>\n",
       "      <td>0.000000e+00</td>\n",
       "      <td>0.000000e+00</td>\n",
       "      <td>0.000000e+00</td>\n",
       "      <td>...</td>\n",
       "      <td>1.944925e+02</td>\n",
       "      <td>1.938486e+02</td>\n",
       "      <td>1.938772e+02</td>\n",
       "      <td>1.962145e+02</td>\n",
       "      <td>9.868750e+00</td>\n",
       "      <td>3.896359e+01</td>\n",
       "      <td>-9.630860e+00</td>\n",
       "      <td>2.280000e+00</td>\n",
       "      <td>0.000000e+00</td>\n",
       "      <td>1.000000e+00</td>\n",
       "    </tr>\n",
       "    <tr>\n",
       "      <th>25%</th>\n",
       "      <td>2.542900e+04</td>\n",
       "      <td>2.020070e+07</td>\n",
       "      <td>6.000000e+02</td>\n",
       "      <td>1.120000e+02</td>\n",
       "      <td>1.266249e+02</td>\n",
       "      <td>3.517294e+01</td>\n",
       "      <td>0.000000e+00</td>\n",
       "      <td>0.000000e+00</td>\n",
       "      <td>0.000000e+00</td>\n",
       "      <td>0.000000e+00</td>\n",
       "      <td>...</td>\n",
       "      <td>2.617152e+02</td>\n",
       "      <td>2.608342e+02</td>\n",
       "      <td>2.593920e+02</td>\n",
       "      <td>2.514734e+02</td>\n",
       "      <td>5.826880e+01</td>\n",
       "      <td>4.104849e+01</td>\n",
       "      <td>-4.764510e+00</td>\n",
       "      <td>4.700000e+01</td>\n",
       "      <td>2.000000e+00</td>\n",
       "      <td>4.000000e+00</td>\n",
       "    </tr>\n",
       "    <tr>\n",
       "      <th>50%</th>\n",
       "      <td>5.085800e+04</td>\n",
       "      <td>2.021010e+07</td>\n",
       "      <td>1.200000e+03</td>\n",
       "      <td>1.330000e+02</td>\n",
       "      <td>1.273721e+02</td>\n",
       "      <td>3.603259e+01</td>\n",
       "      <td>0.000000e+00</td>\n",
       "      <td>1.246000e-02</td>\n",
       "      <td>1.026000e-02</td>\n",
       "      <td>6.560000e-03</td>\n",
       "      <td>...</td>\n",
       "      <td>2.752935e+02</td>\n",
       "      <td>2.750538e+02</td>\n",
       "      <td>2.735149e+02</td>\n",
       "      <td>2.610418e+02</td>\n",
       "      <td>8.832422e+01</td>\n",
       "      <td>4.202608e+01</td>\n",
       "      <td>1.346400e-01</td>\n",
       "      <td>6.894000e+01</td>\n",
       "      <td>3.000000e+00</td>\n",
       "      <td>7.000000e+00</td>\n",
       "    </tr>\n",
       "    <tr>\n",
       "      <th>75%</th>\n",
       "      <td>7.628700e+04</td>\n",
       "      <td>2.021071e+07</td>\n",
       "      <td>1.750000e+03</td>\n",
       "      <td>1.520000e+02</td>\n",
       "      <td>1.290320e+02</td>\n",
       "      <td>3.747772e+01</td>\n",
       "      <td>1.400000e+00</td>\n",
       "      <td>1.455900e-01</td>\n",
       "      <td>1.340100e-01</td>\n",
       "      <td>1.132500e-01</td>\n",
       "      <td>...</td>\n",
       "      <td>2.850941e+02</td>\n",
       "      <td>2.849672e+02</td>\n",
       "      <td>2.827773e+02</td>\n",
       "      <td>2.676700e+02</td>\n",
       "      <td>1.195898e+02</td>\n",
       "      <td>4.367046e+01</td>\n",
       "      <td>4.883570e+00</td>\n",
       "      <td>7.238000e+01</td>\n",
       "      <td>3.000000e+00</td>\n",
       "      <td>1.000000e+01</td>\n",
       "    </tr>\n",
       "    <tr>\n",
       "      <th>max</th>\n",
       "      <td>1.052380e+05</td>\n",
       "      <td>2.021123e+07</td>\n",
       "      <td>2.350000e+03</td>\n",
       "      <td>1.650000e+02</td>\n",
       "      <td>1.308986e+02</td>\n",
       "      <td>3.775147e+01</td>\n",
       "      <td>2.360000e+01</td>\n",
       "      <td>1.052540e+00</td>\n",
       "      <td>1.068690e+00</td>\n",
       "      <td>1.122040e+00</td>\n",
       "      <td>...</td>\n",
       "      <td>3.112966e+02</td>\n",
       "      <td>3.102730e+02</td>\n",
       "      <td>3.051737e+02</td>\n",
       "      <td>2.815333e+02</td>\n",
       "      <td>1.700420e+02</td>\n",
       "      <td>4.395463e+01</td>\n",
       "      <td>9.025490e+00</td>\n",
       "      <td>2.228000e+02</td>\n",
       "      <td>4.000000e+00</td>\n",
       "      <td>1.200000e+01</td>\n",
       "    </tr>\n",
       "  </tbody>\n",
       "</table>\n",
       "<p>8 rows × 29 columns</p>\n",
       "</div>"
      ],
      "text/plain": [
       "              index            날짜          시간_분         관측소지점            경도  \\\n",
       "count  1.525753e+06  1.525753e+06  1.525753e+06  1.525753e+06  1.525753e+06   \n",
       "mean   5.097385e+04  2.020569e+07  1.175743e+03  1.273098e+02  1.278454e+02   \n",
       "std    2.955401e+04  5.014339e+03  6.909852e+02  3.561582e+01  1.383699e+00   \n",
       "min    0.000000e+00  2.020010e+07  0.000000e+00  1.300000e+01  1.261600e+02   \n",
       "25%    2.542900e+04  2.020070e+07  6.000000e+02  1.120000e+02  1.266249e+02   \n",
       "50%    5.085800e+04  2.021010e+07  1.200000e+03  1.330000e+02  1.273721e+02   \n",
       "75%    7.628700e+04  2.021071e+07  1.750000e+03  1.520000e+02  1.290320e+02   \n",
       "max    1.052380e+05  2.021123e+07  2.350000e+03  1.650000e+02  1.308986e+02   \n",
       "\n",
       "                 위도         자외선지수       파랑_가시밴드       초록_가시밴드       빨강_가시밴드  \\\n",
       "count  1.525753e+06  1.525753e+06  1.525753e+06  1.525753e+06  1.525753e+06   \n",
       "mean   3.609818e+01  1.096784e+00  1.003580e-01  9.668460e-02  8.983235e-02   \n",
       "std    1.185210e+00  1.976032e+00  1.530375e-01  1.524775e-01  1.529386e-01   \n",
       "min    3.330000e+01  0.000000e+00  0.000000e+00  0.000000e+00  0.000000e+00   \n",
       "25%    3.517294e+01  0.000000e+00  0.000000e+00  0.000000e+00  0.000000e+00   \n",
       "50%    3.603259e+01  0.000000e+00  1.246000e-02  1.026000e-02  6.560000e-03   \n",
       "75%    3.747772e+01  1.400000e+00  1.455900e-01  1.340100e-01  1.132500e-01   \n",
       "max    3.775147e+01  2.360000e+01  1.052540e+00  1.068690e+00  1.122040e+00   \n",
       "\n",
       "       ...        대기창_밴드    깨끗한_대기창_밴드    오염된_대기창_밴드      이산화탄소_밴드  \\\n",
       "count  ...  1.525753e+06  1.525753e+06  1.525753e+06  1.525753e+06   \n",
       "mean   ...  2.719247e+02  2.713747e+02  2.695050e+02  2.581036e+02   \n",
       "std    ...  1.763642e+01  1.796194e+01  1.734877e+01  1.271292e+01   \n",
       "min    ...  1.944925e+02  1.938486e+02  1.938772e+02  1.962145e+02   \n",
       "25%    ...  2.617152e+02  2.608342e+02  2.593920e+02  2.514734e+02   \n",
       "50%    ...  2.752935e+02  2.750538e+02  2.735149e+02  2.610418e+02   \n",
       "75%    ...  2.850941e+02  2.849672e+02  2.827773e+02  2.676700e+02   \n",
       "max    ...  3.112966e+02  3.102730e+02  3.051737e+02  2.815333e+02   \n",
       "\n",
       "              태양천정각         위성천정각        대기외일사량          관측고도          지면타입  \\\n",
       "count  1.525753e+06  1.525753e+06  1.525753e+06  1.525753e+06  1.525753e+06   \n",
       "mean   8.861417e+01  4.210759e+01  1.223589e-02  6.852743e+01  2.396593e+00   \n",
       "std    3.805311e+01  1.342000e+00  5.433881e+00  4.675649e+01  1.257315e+00   \n",
       "min    9.868750e+00  3.896359e+01 -9.630860e+00  2.280000e+00  0.000000e+00   \n",
       "25%    5.826880e+01  4.104849e+01 -4.764510e+00  4.700000e+01  2.000000e+00   \n",
       "50%    8.832422e+01  4.202608e+01  1.346400e-01  6.894000e+01  3.000000e+00   \n",
       "75%    1.195898e+02  4.367046e+01  4.883570e+00  7.238000e+01  3.000000e+00   \n",
       "max    1.700420e+02  4.395463e+01  9.025490e+00  2.228000e+02  4.000000e+00   \n",
       "\n",
       "              Month  \n",
       "count  1.525753e+06  \n",
       "mean   6.566434e+00  \n",
       "std    3.421990e+00  \n",
       "min    1.000000e+00  \n",
       "25%    4.000000e+00  \n",
       "50%    7.000000e+00  \n",
       "75%    1.000000e+01  \n",
       "max    1.200000e+01  \n",
       "\n",
       "[8 rows x 29 columns]"
      ]
     },
     "execution_count": 4,
     "metadata": {},
     "output_type": "execute_result"
    }
   ],
   "source": [
    "ddf.describe()"
   ]
  },
  {
   "cell_type": "code",
   "execution_count": 5,
   "id": "701bc38f",
   "metadata": {},
   "outputs": [
    {
     "name": "stdout",
     "output_type": "stream",
     "text": [
      "<class 'pandas.core.frame.DataFrame'>\n",
      "RangeIndex: 1578960 entries, 0 to 1578959\n",
      "Data columns (total 30 columns):\n",
      " #   Column       Non-Null Count    Dtype  \n",
      "---  ------       --------------    -----  \n",
      " 0   날짜           1578960 non-null  int64  \n",
      " 1   시간_분         1578960 non-null  int64  \n",
      " 2   관측소지점        1578960 non-null  float64\n",
      " 3   경도           1578960 non-null  float64\n",
      " 4   위도           1578960 non-null  float64\n",
      " 5   자외선지수        1578960 non-null  float64\n",
      " 6   파랑_가시밴드      1578960 non-null  float64\n",
      " 7   초록_가시밴드      1578960 non-null  float64\n",
      " 8   빨강_가시밴드      1578960 non-null  float64\n",
      " 9   식생_가시밴드      1578960 non-null  float64\n",
      " 10  권운_밴드        1578960 non-null  float64\n",
      " 11  눈/얼음_가시밴드    1578960 non-null  float64\n",
      " 12  야간안개/하층운_밴드  1578960 non-null  float64\n",
      " 13  상층_수증기_밴드    1578960 non-null  float64\n",
      " 14  중층_수증기_밴드    1578960 non-null  float64\n",
      " 15  하층_수증기_밴드    1578960 non-null  float64\n",
      " 16  구름상_밴드       1578960 non-null  float64\n",
      " 17  오존_밴드        1578960 non-null  float64\n",
      " 18  대기창_밴드       1578960 non-null  float64\n",
      " 19  깨끗한_대기창_밴드   1578960 non-null  float64\n",
      " 20  오염된_대기창_밴드   1578960 non-null  float64\n",
      " 21  이산화탄소_밴드     1578960 non-null  float64\n",
      " 22  태양천정각        1578960 non-null  float64\n",
      " 23  위성천정각        1578960 non-null  float64\n",
      " 24  대기외일사량       1578960 non-null  float64\n",
      " 25  관측고도         1578960 non-null  float64\n",
      " 26  지면타입         1578960 non-null  float64\n",
      " 27  Month        1578960 non-null  int64  \n",
      " 28  season       1578960 non-null  object \n",
      " 29  date         1578960 non-null  object \n",
      "dtypes: float64(25), int64(3), object(2)\n",
      "memory usage: 361.4+ MB\n"
     ]
    }
   ],
   "source": [
    "df.info()"
   ]
  },
  {
   "cell_type": "code",
   "execution_count": 6,
   "id": "29a3b1b1",
   "metadata": {},
   "outputs": [],
   "source": [
    "from sklearn.model_selection import train_test_split # 분할\n",
    "\n",
    "from sklearn.linear_model import ElasticNet\n",
    "from sklearn.metrics import mean_squared_error# mse\n",
    "from sklearn.metrics import r2_score"
   ]
  },
  {
   "cell_type": "code",
   "execution_count": 13,
   "id": "85291e1c",
   "metadata": {
    "scrolled": true
   },
   "outputs": [],
   "source": [
    "df1 = df.drop(['날짜','시간_분','경도','위도','Month','date'], axis=1)\n",
    "ddf1 = ddf.drop(['날짜','시간_분','경도','위도','Month'], axis=1)"
   ]
  },
  {
   "cell_type": "code",
   "execution_count": 29,
   "id": "7176994c",
   "metadata": {
    "scrolled": true
   },
   "outputs": [
    {
     "ename": "KeyError",
     "evalue": "\"None of [Index(['season'], dtype='object')] are in the [columns]\"",
     "output_type": "error",
     "traceback": [
      "\u001b[1;31m---------------------------------------------------------------------------\u001b[0m",
      "\u001b[1;31mKeyError\u001b[0m                                  Traceback (most recent call last)",
      "\u001b[1;32m~\\AppData\\Local\\Temp/ipykernel_10740/567562060.py\u001b[0m in \u001b[0;36m<module>\u001b[1;34m\u001b[0m\n\u001b[1;32m----> 1\u001b[1;33m \u001b[0mdf1\u001b[0m \u001b[1;33m=\u001b[0m \u001b[0mpd\u001b[0m\u001b[1;33m.\u001b[0m\u001b[0mget_dummies\u001b[0m\u001b[1;33m(\u001b[0m\u001b[0mdf1\u001b[0m\u001b[1;33m,\u001b[0m \u001b[0mcolumns\u001b[0m \u001b[1;33m=\u001b[0m \u001b[1;33m[\u001b[0m\u001b[1;34m'season'\u001b[0m\u001b[1;33m]\u001b[0m\u001b[1;33m)\u001b[0m\u001b[1;33m\u001b[0m\u001b[1;33m\u001b[0m\u001b[0m\n\u001b[0m\u001b[0;32m      2\u001b[0m \u001b[0mddf1\u001b[0m \u001b[1;33m=\u001b[0m \u001b[0mpd\u001b[0m\u001b[1;33m.\u001b[0m\u001b[0mget_dummies\u001b[0m\u001b[1;33m(\u001b[0m\u001b[0mddf1\u001b[0m\u001b[1;33m,\u001b[0m \u001b[0mcolumns\u001b[0m \u001b[1;33m=\u001b[0m \u001b[1;33m[\u001b[0m\u001b[1;34m'season'\u001b[0m\u001b[1;33m]\u001b[0m\u001b[1;33m)\u001b[0m\u001b[1;33m\u001b[0m\u001b[1;33m\u001b[0m\u001b[0m\n",
      "\u001b[1;32m~\\anaconda3\\lib\\site-packages\\pandas\\core\\reshape\\reshape.py\u001b[0m in \u001b[0;36mget_dummies\u001b[1;34m(data, prefix, prefix_sep, dummy_na, columns, sparse, drop_first, dtype)\u001b[0m\n\u001b[0;32m    888\u001b[0m             \u001b[1;32mraise\u001b[0m \u001b[0mTypeError\u001b[0m\u001b[1;33m(\u001b[0m\u001b[1;34m\"Input must be a list-like for parameter `columns`\"\u001b[0m\u001b[1;33m)\u001b[0m\u001b[1;33m\u001b[0m\u001b[1;33m\u001b[0m\u001b[0m\n\u001b[0;32m    889\u001b[0m         \u001b[1;32melse\u001b[0m\u001b[1;33m:\u001b[0m\u001b[1;33m\u001b[0m\u001b[1;33m\u001b[0m\u001b[0m\n\u001b[1;32m--> 890\u001b[1;33m             \u001b[0mdata_to_encode\u001b[0m \u001b[1;33m=\u001b[0m \u001b[0mdata\u001b[0m\u001b[1;33m[\u001b[0m\u001b[0mcolumns\u001b[0m\u001b[1;33m]\u001b[0m\u001b[1;33m\u001b[0m\u001b[1;33m\u001b[0m\u001b[0m\n\u001b[0m\u001b[0;32m    891\u001b[0m \u001b[1;33m\u001b[0m\u001b[0m\n\u001b[0;32m    892\u001b[0m         \u001b[1;31m# validate prefixes and separator to avoid silently dropping cols\u001b[0m\u001b[1;33m\u001b[0m\u001b[1;33m\u001b[0m\u001b[0m\n",
      "\u001b[1;32m~\\anaconda3\\lib\\site-packages\\pandas\\core\\frame.py\u001b[0m in \u001b[0;36m__getitem__\u001b[1;34m(self, key)\u001b[0m\n\u001b[0;32m   3462\u001b[0m             \u001b[1;32mif\u001b[0m \u001b[0mis_iterator\u001b[0m\u001b[1;33m(\u001b[0m\u001b[0mkey\u001b[0m\u001b[1;33m)\u001b[0m\u001b[1;33m:\u001b[0m\u001b[1;33m\u001b[0m\u001b[1;33m\u001b[0m\u001b[0m\n\u001b[0;32m   3463\u001b[0m                 \u001b[0mkey\u001b[0m \u001b[1;33m=\u001b[0m \u001b[0mlist\u001b[0m\u001b[1;33m(\u001b[0m\u001b[0mkey\u001b[0m\u001b[1;33m)\u001b[0m\u001b[1;33m\u001b[0m\u001b[1;33m\u001b[0m\u001b[0m\n\u001b[1;32m-> 3464\u001b[1;33m             \u001b[0mindexer\u001b[0m \u001b[1;33m=\u001b[0m \u001b[0mself\u001b[0m\u001b[1;33m.\u001b[0m\u001b[0mloc\u001b[0m\u001b[1;33m.\u001b[0m\u001b[0m_get_listlike_indexer\u001b[0m\u001b[1;33m(\u001b[0m\u001b[0mkey\u001b[0m\u001b[1;33m,\u001b[0m \u001b[0maxis\u001b[0m\u001b[1;33m=\u001b[0m\u001b[1;36m1\u001b[0m\u001b[1;33m)\u001b[0m\u001b[1;33m[\u001b[0m\u001b[1;36m1\u001b[0m\u001b[1;33m]\u001b[0m\u001b[1;33m\u001b[0m\u001b[1;33m\u001b[0m\u001b[0m\n\u001b[0m\u001b[0;32m   3465\u001b[0m \u001b[1;33m\u001b[0m\u001b[0m\n\u001b[0;32m   3466\u001b[0m         \u001b[1;31m# take() does not accept boolean indexers\u001b[0m\u001b[1;33m\u001b[0m\u001b[1;33m\u001b[0m\u001b[0m\n",
      "\u001b[1;32m~\\anaconda3\\lib\\site-packages\\pandas\\core\\indexing.py\u001b[0m in \u001b[0;36m_get_listlike_indexer\u001b[1;34m(self, key, axis)\u001b[0m\n\u001b[0;32m   1312\u001b[0m             \u001b[0mkeyarr\u001b[0m\u001b[1;33m,\u001b[0m \u001b[0mindexer\u001b[0m\u001b[1;33m,\u001b[0m \u001b[0mnew_indexer\u001b[0m \u001b[1;33m=\u001b[0m \u001b[0max\u001b[0m\u001b[1;33m.\u001b[0m\u001b[0m_reindex_non_unique\u001b[0m\u001b[1;33m(\u001b[0m\u001b[0mkeyarr\u001b[0m\u001b[1;33m)\u001b[0m\u001b[1;33m\u001b[0m\u001b[1;33m\u001b[0m\u001b[0m\n\u001b[0;32m   1313\u001b[0m \u001b[1;33m\u001b[0m\u001b[0m\n\u001b[1;32m-> 1314\u001b[1;33m         \u001b[0mself\u001b[0m\u001b[1;33m.\u001b[0m\u001b[0m_validate_read_indexer\u001b[0m\u001b[1;33m(\u001b[0m\u001b[0mkeyarr\u001b[0m\u001b[1;33m,\u001b[0m \u001b[0mindexer\u001b[0m\u001b[1;33m,\u001b[0m \u001b[0maxis\u001b[0m\u001b[1;33m)\u001b[0m\u001b[1;33m\u001b[0m\u001b[1;33m\u001b[0m\u001b[0m\n\u001b[0m\u001b[0;32m   1315\u001b[0m \u001b[1;33m\u001b[0m\u001b[0m\n\u001b[0;32m   1316\u001b[0m         if needs_i8_conversion(ax.dtype) or isinstance(\n",
      "\u001b[1;32m~\\anaconda3\\lib\\site-packages\\pandas\\core\\indexing.py\u001b[0m in \u001b[0;36m_validate_read_indexer\u001b[1;34m(self, key, indexer, axis)\u001b[0m\n\u001b[0;32m   1372\u001b[0m                 \u001b[1;32mif\u001b[0m \u001b[0muse_interval_msg\u001b[0m\u001b[1;33m:\u001b[0m\u001b[1;33m\u001b[0m\u001b[1;33m\u001b[0m\u001b[0m\n\u001b[0;32m   1373\u001b[0m                     \u001b[0mkey\u001b[0m \u001b[1;33m=\u001b[0m \u001b[0mlist\u001b[0m\u001b[1;33m(\u001b[0m\u001b[0mkey\u001b[0m\u001b[1;33m)\u001b[0m\u001b[1;33m\u001b[0m\u001b[1;33m\u001b[0m\u001b[0m\n\u001b[1;32m-> 1374\u001b[1;33m                 \u001b[1;32mraise\u001b[0m \u001b[0mKeyError\u001b[0m\u001b[1;33m(\u001b[0m\u001b[1;34mf\"None of [{key}] are in the [{axis_name}]\"\u001b[0m\u001b[1;33m)\u001b[0m\u001b[1;33m\u001b[0m\u001b[1;33m\u001b[0m\u001b[0m\n\u001b[0m\u001b[0;32m   1375\u001b[0m \u001b[1;33m\u001b[0m\u001b[0m\n\u001b[0;32m   1376\u001b[0m             \u001b[0mnot_found\u001b[0m \u001b[1;33m=\u001b[0m \u001b[0mlist\u001b[0m\u001b[1;33m(\u001b[0m\u001b[0mensure_index\u001b[0m\u001b[1;33m(\u001b[0m\u001b[0mkey\u001b[0m\u001b[1;33m)\u001b[0m\u001b[1;33m[\u001b[0m\u001b[0mmissing_mask\u001b[0m\u001b[1;33m.\u001b[0m\u001b[0mnonzero\u001b[0m\u001b[1;33m(\u001b[0m\u001b[1;33m)\u001b[0m\u001b[1;33m[\u001b[0m\u001b[1;36m0\u001b[0m\u001b[1;33m]\u001b[0m\u001b[1;33m]\u001b[0m\u001b[1;33m.\u001b[0m\u001b[0munique\u001b[0m\u001b[1;33m(\u001b[0m\u001b[1;33m)\u001b[0m\u001b[1;33m)\u001b[0m\u001b[1;33m\u001b[0m\u001b[1;33m\u001b[0m\u001b[0m\n",
      "\u001b[1;31mKeyError\u001b[0m: \"None of [Index(['season'], dtype='object')] are in the [columns]\""
     ]
    }
   ],
   "source": [
    "df1 = pd.get_dummies(df1, columns = ['season'])\n",
    "ddf1 = pd.get_dummies(ddf1, columns = ['season'])"
   ]
  },
  {
   "cell_type": "code",
   "execution_count": 30,
   "id": "3938bc1a",
   "metadata": {},
   "outputs": [],
   "source": [
    "X = df1.drop(['자외선지수'], axis=1)\n",
    "y = df1['자외선지수']"
   ]
  },
  {
   "cell_type": "code",
   "execution_count": 31,
   "id": "7f52ba5a",
   "metadata": {},
   "outputs": [],
   "source": [
    "X_train, X_test, y_train, y_test = train_test_split(X,y, test_size=0.3,random_state=42)"
   ]
  },
  {
   "cell_type": "code",
   "execution_count": 52,
   "id": "d3c8d91a",
   "metadata": {},
   "outputs": [],
   "source": [
    "model = ElasticNet(alpha = 0.1 l1_ratio=0.5)"
   ]
  },
  {
   "cell_type": "code",
   "execution_count": 53,
   "id": "221ed1b4",
   "metadata": {},
   "outputs": [
    {
     "data": {
      "text/html": [
       "<style>#sk-container-id-9 {color: black;background-color: white;}#sk-container-id-9 pre{padding: 0;}#sk-container-id-9 div.sk-toggleable {background-color: white;}#sk-container-id-9 label.sk-toggleable__label {cursor: pointer;display: block;width: 100%;margin-bottom: 0;padding: 0.3em;box-sizing: border-box;text-align: center;}#sk-container-id-9 label.sk-toggleable__label-arrow:before {content: \"▸\";float: left;margin-right: 0.25em;color: #696969;}#sk-container-id-9 label.sk-toggleable__label-arrow:hover:before {color: black;}#sk-container-id-9 div.sk-estimator:hover label.sk-toggleable__label-arrow:before {color: black;}#sk-container-id-9 div.sk-toggleable__content {max-height: 0;max-width: 0;overflow: hidden;text-align: left;background-color: #f0f8ff;}#sk-container-id-9 div.sk-toggleable__content pre {margin: 0.2em;color: black;border-radius: 0.25em;background-color: #f0f8ff;}#sk-container-id-9 input.sk-toggleable__control:checked~div.sk-toggleable__content {max-height: 200px;max-width: 100%;overflow: auto;}#sk-container-id-9 input.sk-toggleable__control:checked~label.sk-toggleable__label-arrow:before {content: \"▾\";}#sk-container-id-9 div.sk-estimator input.sk-toggleable__control:checked~label.sk-toggleable__label {background-color: #d4ebff;}#sk-container-id-9 div.sk-label input.sk-toggleable__control:checked~label.sk-toggleable__label {background-color: #d4ebff;}#sk-container-id-9 input.sk-hidden--visually {border: 0;clip: rect(1px 1px 1px 1px);clip: rect(1px, 1px, 1px, 1px);height: 1px;margin: -1px;overflow: hidden;padding: 0;position: absolute;width: 1px;}#sk-container-id-9 div.sk-estimator {font-family: monospace;background-color: #f0f8ff;border: 1px dotted black;border-radius: 0.25em;box-sizing: border-box;margin-bottom: 0.5em;}#sk-container-id-9 div.sk-estimator:hover {background-color: #d4ebff;}#sk-container-id-9 div.sk-parallel-item::after {content: \"\";width: 100%;border-bottom: 1px solid gray;flex-grow: 1;}#sk-container-id-9 div.sk-label:hover label.sk-toggleable__label {background-color: #d4ebff;}#sk-container-id-9 div.sk-serial::before {content: \"\";position: absolute;border-left: 1px solid gray;box-sizing: border-box;top: 0;bottom: 0;left: 50%;z-index: 0;}#sk-container-id-9 div.sk-serial {display: flex;flex-direction: column;align-items: center;background-color: white;padding-right: 0.2em;padding-left: 0.2em;position: relative;}#sk-container-id-9 div.sk-item {position: relative;z-index: 1;}#sk-container-id-9 div.sk-parallel {display: flex;align-items: stretch;justify-content: center;background-color: white;position: relative;}#sk-container-id-9 div.sk-item::before, #sk-container-id-9 div.sk-parallel-item::before {content: \"\";position: absolute;border-left: 1px solid gray;box-sizing: border-box;top: 0;bottom: 0;left: 50%;z-index: -1;}#sk-container-id-9 div.sk-parallel-item {display: flex;flex-direction: column;z-index: 1;position: relative;background-color: white;}#sk-container-id-9 div.sk-parallel-item:first-child::after {align-self: flex-end;width: 50%;}#sk-container-id-9 div.sk-parallel-item:last-child::after {align-self: flex-start;width: 50%;}#sk-container-id-9 div.sk-parallel-item:only-child::after {width: 0;}#sk-container-id-9 div.sk-dashed-wrapped {border: 1px dashed gray;margin: 0 0.4em 0.5em 0.4em;box-sizing: border-box;padding-bottom: 0.4em;background-color: white;}#sk-container-id-9 div.sk-label label {font-family: monospace;font-weight: bold;display: inline-block;line-height: 1.2em;}#sk-container-id-9 div.sk-label-container {text-align: center;}#sk-container-id-9 div.sk-container {/* jupyter's `normalize.less` sets `[hidden] { display: none; }` but bootstrap.min.css set `[hidden] { display: none !important; }` so we also need the `!important` here to be able to override the default hidden behavior on the sphinx rendered scikit-learn.org. See: https://github.com/scikit-learn/scikit-learn/issues/21755 */display: inline-block !important;position: relative;}#sk-container-id-9 div.sk-text-repr-fallback {display: none;}</style><div id=\"sk-container-id-9\" class=\"sk-top-container\"><div class=\"sk-text-repr-fallback\"><pre>ElasticNet()</pre><b>In a Jupyter environment, please rerun this cell to show the HTML representation or trust the notebook. <br />On GitHub, the HTML representation is unable to render, please try loading this page with nbviewer.org.</b></div><div class=\"sk-container\" hidden><div class=\"sk-item\"><div class=\"sk-estimator sk-toggleable\"><input class=\"sk-toggleable__control sk-hidden--visually\" id=\"sk-estimator-id-9\" type=\"checkbox\" checked><label for=\"sk-estimator-id-9\" class=\"sk-toggleable__label sk-toggleable__label-arrow\">ElasticNet</label><div class=\"sk-toggleable__content\"><pre>ElasticNet()</pre></div></div></div></div></div>"
      ],
      "text/plain": [
       "ElasticNet()"
      ]
     },
     "execution_count": 53,
     "metadata": {},
     "output_type": "execute_result"
    }
   ],
   "source": [
    "model.fit(X_train, y_train)"
   ]
  },
  {
   "cell_type": "markdown",
   "id": "826e9cfa",
   "metadata": {},
   "source": [
    "# "
   ]
  },
  {
   "cell_type": "markdown",
   "id": "50dc0987",
   "metadata": {},
   "source": [
    "# 자외선지수 결측치 제거 안한 데이터"
   ]
  },
  {
   "cell_type": "markdown",
   "id": "cd48c1a6",
   "metadata": {},
   "source": [
    "### 알파 디폴트 값"
   ]
  },
  {
   "cell_type": "code",
   "execution_count": 54,
   "id": "342e406f",
   "metadata": {},
   "outputs": [
    {
     "name": "stdout",
     "output_type": "stream",
     "text": [
      "RMSE :  1.2966600699321789\n",
      "r2_score :  0.5656458304736403\n"
     ]
    }
   ],
   "source": [
    "y_pred = model.predict(X_test)\n",
    "print('RMSE : ',mean_squared_error(y_pred,y_test, squared=False))\n",
    "print('r2_score : ',r2_score(y_test, y_pred))"
   ]
  },
  {
   "cell_type": "markdown",
   "id": "ed51c84b",
   "metadata": {},
   "source": [
    "### 알파 0.5"
   ]
  },
  {
   "cell_type": "code",
   "execution_count": 41,
   "id": "6a1163b9",
   "metadata": {},
   "outputs": [
    {
     "name": "stdout",
     "output_type": "stream",
     "text": [
      "RMSE :  1.273274277875904\n",
      "r2_score :  0.5811720539568825\n"
     ]
    }
   ],
   "source": [
    "y_pred = model.predict(X_test)\n",
    "print('RMSE : ',mean_squared_error(y_pred,y_test, squared=False))\n",
    "print('r2_score : ',r2_score(y_test, y_pred))"
   ]
  },
  {
   "cell_type": "markdown",
   "id": "efa28bfd",
   "metadata": {},
   "source": [
    "### 알파 0.3"
   ]
  },
  {
   "cell_type": "code",
   "execution_count": 34,
   "id": "5c778207",
   "metadata": {},
   "outputs": [
    {
     "name": "stdout",
     "output_type": "stream",
     "text": [
      "RMSE :  1.254779935450237\n",
      "r2_score :  0.5932506650460859\n"
     ]
    }
   ],
   "source": [
    "y_pred = model.predict(X_test)\n",
    "print('RMSE : ',mean_squared_error(y_pred,y_test, squared=False))\n",
    "print('r2_score : ',r2_score(y_test, y_pred))"
   ]
  },
  {
   "cell_type": "markdown",
   "id": "c82c0de0",
   "metadata": {},
   "source": [
    "### 알파 0.1"
   ]
  },
  {
   "cell_type": "code",
   "execution_count": 21,
   "id": "048c49de",
   "metadata": {},
   "outputs": [
    {
     "name": "stdout",
     "output_type": "stream",
     "text": [
      "RMSE :  1.2283866430329142\n",
      "r2_score :  0.6101819977712695\n"
     ]
    }
   ],
   "source": [
    "y_pred = model.predict(X_test)\n",
    "print('RMSE : ',mean_squared_error(y_pred,y_test, squared=False))\n",
    "print('r2_score : ',r2_score(y_test, y_pred))"
   ]
  },
  {
   "cell_type": "markdown",
   "id": "e61c0c3d",
   "metadata": {},
   "source": [
    "### 알파 0.05"
   ]
  },
  {
   "cell_type": "code",
   "execution_count": 48,
   "id": "dadb7c1b",
   "metadata": {},
   "outputs": [
    {
     "name": "stdout",
     "output_type": "stream",
     "text": [
      "RMSE :  1.2223163484878108\n",
      "r2_score :  0.6140251905175649\n"
     ]
    }
   ],
   "source": [
    "y_pred = model.predict(X_test)\n",
    "print('RMSE : ',mean_squared_error(y_pred,y_test, squared=False))\n",
    "print('r2_score : ',r2_score(y_test, y_pred))"
   ]
  },
  {
   "cell_type": "markdown",
   "id": "537014d8",
   "metadata": {},
   "source": [
    "# "
   ]
  },
  {
   "cell_type": "markdown",
   "id": "ced875ca",
   "metadata": {},
   "source": [
    "# 자외선지수 결측치 제거 한 데이터"
   ]
  },
  {
   "cell_type": "code",
   "execution_count": 35,
   "id": "4ddee9c8",
   "metadata": {},
   "outputs": [],
   "source": [
    "X1 = ddf1.drop(['자외선지수'], axis=1)\n",
    "y1 = ddf1['자외선지수']"
   ]
  },
  {
   "cell_type": "code",
   "execution_count": 42,
   "id": "b1435ce1",
   "metadata": {},
   "outputs": [],
   "source": [
    "X1_train, X1_test, y1_train, y1_test = train_test_split(X1,y1, test_size=0.3,random_state=42)"
   ]
  },
  {
   "cell_type": "code",
   "execution_count": 55,
   "id": "b7f27d5f",
   "metadata": {},
   "outputs": [
    {
     "data": {
      "text/html": [
       "<style>#sk-container-id-10 {color: black;background-color: white;}#sk-container-id-10 pre{padding: 0;}#sk-container-id-10 div.sk-toggleable {background-color: white;}#sk-container-id-10 label.sk-toggleable__label {cursor: pointer;display: block;width: 100%;margin-bottom: 0;padding: 0.3em;box-sizing: border-box;text-align: center;}#sk-container-id-10 label.sk-toggleable__label-arrow:before {content: \"▸\";float: left;margin-right: 0.25em;color: #696969;}#sk-container-id-10 label.sk-toggleable__label-arrow:hover:before {color: black;}#sk-container-id-10 div.sk-estimator:hover label.sk-toggleable__label-arrow:before {color: black;}#sk-container-id-10 div.sk-toggleable__content {max-height: 0;max-width: 0;overflow: hidden;text-align: left;background-color: #f0f8ff;}#sk-container-id-10 div.sk-toggleable__content pre {margin: 0.2em;color: black;border-radius: 0.25em;background-color: #f0f8ff;}#sk-container-id-10 input.sk-toggleable__control:checked~div.sk-toggleable__content {max-height: 200px;max-width: 100%;overflow: auto;}#sk-container-id-10 input.sk-toggleable__control:checked~label.sk-toggleable__label-arrow:before {content: \"▾\";}#sk-container-id-10 div.sk-estimator input.sk-toggleable__control:checked~label.sk-toggleable__label {background-color: #d4ebff;}#sk-container-id-10 div.sk-label input.sk-toggleable__control:checked~label.sk-toggleable__label {background-color: #d4ebff;}#sk-container-id-10 input.sk-hidden--visually {border: 0;clip: rect(1px 1px 1px 1px);clip: rect(1px, 1px, 1px, 1px);height: 1px;margin: -1px;overflow: hidden;padding: 0;position: absolute;width: 1px;}#sk-container-id-10 div.sk-estimator {font-family: monospace;background-color: #f0f8ff;border: 1px dotted black;border-radius: 0.25em;box-sizing: border-box;margin-bottom: 0.5em;}#sk-container-id-10 div.sk-estimator:hover {background-color: #d4ebff;}#sk-container-id-10 div.sk-parallel-item::after {content: \"\";width: 100%;border-bottom: 1px solid gray;flex-grow: 1;}#sk-container-id-10 div.sk-label:hover label.sk-toggleable__label {background-color: #d4ebff;}#sk-container-id-10 div.sk-serial::before {content: \"\";position: absolute;border-left: 1px solid gray;box-sizing: border-box;top: 0;bottom: 0;left: 50%;z-index: 0;}#sk-container-id-10 div.sk-serial {display: flex;flex-direction: column;align-items: center;background-color: white;padding-right: 0.2em;padding-left: 0.2em;position: relative;}#sk-container-id-10 div.sk-item {position: relative;z-index: 1;}#sk-container-id-10 div.sk-parallel {display: flex;align-items: stretch;justify-content: center;background-color: white;position: relative;}#sk-container-id-10 div.sk-item::before, #sk-container-id-10 div.sk-parallel-item::before {content: \"\";position: absolute;border-left: 1px solid gray;box-sizing: border-box;top: 0;bottom: 0;left: 50%;z-index: -1;}#sk-container-id-10 div.sk-parallel-item {display: flex;flex-direction: column;z-index: 1;position: relative;background-color: white;}#sk-container-id-10 div.sk-parallel-item:first-child::after {align-self: flex-end;width: 50%;}#sk-container-id-10 div.sk-parallel-item:last-child::after {align-self: flex-start;width: 50%;}#sk-container-id-10 div.sk-parallel-item:only-child::after {width: 0;}#sk-container-id-10 div.sk-dashed-wrapped {border: 1px dashed gray;margin: 0 0.4em 0.5em 0.4em;box-sizing: border-box;padding-bottom: 0.4em;background-color: white;}#sk-container-id-10 div.sk-label label {font-family: monospace;font-weight: bold;display: inline-block;line-height: 1.2em;}#sk-container-id-10 div.sk-label-container {text-align: center;}#sk-container-id-10 div.sk-container {/* jupyter's `normalize.less` sets `[hidden] { display: none; }` but bootstrap.min.css set `[hidden] { display: none !important; }` so we also need the `!important` here to be able to override the default hidden behavior on the sphinx rendered scikit-learn.org. See: https://github.com/scikit-learn/scikit-learn/issues/21755 */display: inline-block !important;position: relative;}#sk-container-id-10 div.sk-text-repr-fallback {display: none;}</style><div id=\"sk-container-id-10\" class=\"sk-top-container\"><div class=\"sk-text-repr-fallback\"><pre>ElasticNet()</pre><b>In a Jupyter environment, please rerun this cell to show the HTML representation or trust the notebook. <br />On GitHub, the HTML representation is unable to render, please try loading this page with nbviewer.org.</b></div><div class=\"sk-container\" hidden><div class=\"sk-item\"><div class=\"sk-estimator sk-toggleable\"><input class=\"sk-toggleable__control sk-hidden--visually\" id=\"sk-estimator-id-10\" type=\"checkbox\" checked><label for=\"sk-estimator-id-10\" class=\"sk-toggleable__label sk-toggleable__label-arrow\">ElasticNet</label><div class=\"sk-toggleable__content\"><pre>ElasticNet()</pre></div></div></div></div></div>"
      ],
      "text/plain": [
       "ElasticNet()"
      ]
     },
     "execution_count": 55,
     "metadata": {},
     "output_type": "execute_result"
    }
   ],
   "source": [
    "model.fit(X1_train, y1_train)"
   ]
  },
  {
   "cell_type": "markdown",
   "id": "67cae030",
   "metadata": {},
   "source": [
    "### 알파 디폴트 값"
   ]
  },
  {
   "cell_type": "code",
   "execution_count": 56,
   "id": "e0c49682",
   "metadata": {},
   "outputs": [
    {
     "name": "stdout",
     "output_type": "stream",
     "text": [
      "RMSE :  1.3001382899749374\n",
      "r2_score :  0.5685513414541207\n"
     ]
    }
   ],
   "source": [
    "y_pred = model.predict(X1_test)\n",
    "print('RMSE : ',mean_squared_error(y_pred,y1_test, squared=False))\n",
    "print('r2_score : ',r2_score(y1_test, y_pred))"
   ]
  },
  {
   "cell_type": "markdown",
   "id": "a2a26213",
   "metadata": {},
   "source": [
    "### 알파 0.5"
   ]
  },
  {
   "cell_type": "code",
   "execution_count": 44,
   "id": "4d9eee38",
   "metadata": {},
   "outputs": [
    {
     "name": "stdout",
     "output_type": "stream",
     "text": [
      "RMSE :  1.2758425399310007\n",
      "r2_score :  0.5845256829022676\n"
     ]
    }
   ],
   "source": [
    "y_pred = model.predict(X1_test)\n",
    "print('RMSE : ',mean_squared_error(y_pred,y1_test, squared=False))\n",
    "print('r2_score : ',r2_score(y1_test, y_pred))"
   ]
  },
  {
   "cell_type": "markdown",
   "id": "aa9d51c4",
   "metadata": {},
   "source": [
    "### 알파 0.3"
   ]
  },
  {
   "cell_type": "code",
   "execution_count": 38,
   "id": "23b671bb",
   "metadata": {},
   "outputs": [
    {
     "name": "stdout",
     "output_type": "stream",
     "text": [
      "RMSE :  1.255623371568473\n",
      "r2_score :  0.5975899604315735\n"
     ]
    }
   ],
   "source": [
    "y_pred = model.predict(X1_test)\n",
    "print('RMSE : ',mean_squared_error(y_pred,y1_test, squared=False))\n",
    "print('r2_score : ',r2_score(y1_test, y_pred))"
   ]
  },
  {
   "cell_type": "markdown",
   "id": "d1f911b2",
   "metadata": {},
   "source": [
    "### 알파 0.1"
   ]
  },
  {
   "cell_type": "code",
   "execution_count": 26,
   "id": "3c418c0a",
   "metadata": {},
   "outputs": [
    {
     "name": "stdout",
     "output_type": "stream",
     "text": [
      "RMSE :  1.2282441242430804\n",
      "r2_score :  0.614947971250118\n"
     ]
    }
   ],
   "source": [
    "y_pred = model.predict(X1_test)\n",
    "print('RMSE : ',mean_squared_error(y_pred,y1_test, squared=False))\n",
    "print('r2_score : ',r2_score(y1_test, y_pred))"
   ]
  },
  {
   "cell_type": "markdown",
   "id": "cdc2b494",
   "metadata": {},
   "source": [
    "### 알파 0.05"
   ]
  },
  {
   "cell_type": "code",
   "execution_count": 51,
   "id": "c66052d5",
   "metadata": {},
   "outputs": [
    {
     "name": "stdout",
     "output_type": "stream",
     "text": [
      "RMSE :  1.2218988716614592\n",
      "r2_score :  0.6189161421826292\n"
     ]
    }
   ],
   "source": [
    "y_pred = model.predict(X1_test)\n",
    "print('RMSE : ',mean_squared_error(y_pred,y1_test, squared=False))\n",
    "print('r2_score : ',r2_score(y1_test, y_pred))"
   ]
  },
  {
   "cell_type": "code",
   "execution_count": null,
   "id": "05800f2e",
   "metadata": {},
   "outputs": [],
   "source": []
  }
 ],
 "metadata": {
  "kernelspec": {
   "display_name": "Python 3 (ipykernel)",
   "language": "python",
   "name": "python3"
  },
  "language_info": {
   "codemirror_mode": {
    "name": "ipython",
    "version": 3
   },
   "file_extension": ".py",
   "mimetype": "text/x-python",
   "name": "python",
   "nbconvert_exporter": "python",
   "pygments_lexer": "ipython3",
   "version": "3.9.7"
  }
 },
 "nbformat": 4,
 "nbformat_minor": 5
}
